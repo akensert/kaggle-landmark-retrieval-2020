{
 "cells": [
  {
   "cell_type": "code",
   "execution_count": 3,
   "metadata": {},
   "outputs": [],
   "source": [
    "import tensorflow as tf\n",
    "import numpy as np\n",
    "from zipfile import ZipFile\n",
    "import shutil\n",
    "import os\n",
    "import argparse\n",
    "import sys\n",
    "sys.path.append('../')\n",
    "\n",
    "import tqdm\n",
    "import tensorflow as tf\n",
    "import os\n",
    "from zipfile import ZipFile\n",
    "\n",
    "import argparse\n",
    "import glob\n",
    "import logging\n",
    "tf.get_logger().setLevel(logging.ERROR)\n",
    "import warnings\n",
    "warnings.filterwarnings(\"ignore\")\n",
    "\n",
    "tf.config.set_visible_devices([], 'GPU')\n",
    "\n",
    "import config\n",
    "import generator\n",
    "import models\n",
    "import serve"
   ]
  },
  {
   "cell_type": "code",
   "execution_count": 23,
   "metadata": {},
   "outputs": [],
   "source": [
    "class ServedModel(models.Delf):\n",
    "\n",
    "    def __init__(\n",
    "        self, weights, global_units, n_classes, p, s, m, input_dim, backbone):\n",
    "\n",
    "        # initialize delf model\n",
    "        super(ServedModel, self).__init__(\n",
    "            global_units, n_classes, p, s, m, input_dim, backbone)\n",
    "\n",
    "        # build delf model (so that weights can be loaded)\n",
    "        super(ServedModel, self).__call__([\n",
    "            tf.ones((1, input_dim, input_dim, 3), dtype='float32'),\n",
    "            tf.ones((1,), dtype='int32'),\n",
    "        ])\n",
    "        # load finetuned delf weights\n",
    "        self.load_weights(weights)\n",
    "\n",
    "    @tf.function(\n",
    "        input_signature=[\n",
    "            tf.TensorSpec([], tf.string),\n",
    "            tf.TensorSpec([], tf.int32),\n",
    "            tf.TensorSpec([], tf.bool),\n",
    "            tf.TensorSpec([2,], tf.float32)])\n",
    "    def extract_image(self, image_path, dim, central_crop, crop_ratio):\n",
    "        image = generator.load_image(\n",
    "            image_path, dim, central_crop, crop_ratio)\n",
    "        return generator.normalize(image)[tf.newaxis]\n",
    "\n",
    "    @tf.function(\n",
    "        input_signature=[\n",
    "            tf.TensorSpec([1, None, None, 3], tf.float32)])\n",
    "    def extract_global_descriptor(self, image):\n",
    "        features = self.backbone(image, training=False)\n",
    "        x = self.pooling(features['block5'])\n",
    "        x = self.desc_fc(x)\n",
    "        return tf.squeeze(x)\n",
    "\n",
    "    @tf.function(\n",
    "        input_signature=[\n",
    "            tf.TensorSpec([1, None, None, 3], tf.float32)])\n",
    "    def extract_global_prediction(self, image):\n",
    "        predictions, _ = self.forward_prop_desc(image, -1, training=False)\n",
    "        return tf.squeeze(predictions)\n",
    "\n",
    "    @tf.function(\n",
    "        input_signature=[\n",
    "            tf.TensorSpec([1, None, None, 3], tf.float32)])\n",
    "    def extract_local_descriptor(self, image):\n",
    "        return None # TODO\n",
    "\n",
    "    @tf.function(\n",
    "        input_signature=[\n",
    "            tf.TensorSpec([1, None, None, 3], tf.float32)])\n",
    "    def extract_local_prediction(self, image):\n",
    "        return None # TODO\n",
    "\n",
    "    def save(self, path, and_zip=True):\n",
    "        # save model\n",
    "        tf.saved_model.save(obj=self, export_dir=path)\n",
    "        # zip saved model\n",
    "        file_paths = []\n",
    "        for dir_path, _, file_path in os.walk(path):\n",
    "            for fp in file_path:\n",
    "                file_paths.append(os.path.join(dir_path, fp))\n",
    "        with ZipFile(path + '.zip', 'w') as z:\n",
    "            for file_path in file_paths:\n",
    "                print(file_path, '/'.join(file_path.split('/')[4:]))\n",
    "                z.write(file_path, arcname='/'.join(file_path.split('/')[4:]))\n",
    "\n"
   ]
  },
  {
   "cell_type": "code",
   "execution_count": 24,
   "metadata": {
    "scrolled": true
   },
   "outputs": [],
   "source": [
    "model = ServedModel(\n",
    "    config.config['finetuned_weights'],\n",
    "    config.config['dense_units'], \n",
    "    config.config['n_classes'], \n",
    "    config.config['gem_p'], \n",
    "    config.config['loss']['scale'], \n",
    "    config.config['loss']['margin'],\n",
    "    config.config['input_dim'],\n",
    "    config.config['backbone'])\n",
    "\n"
   ]
  },
  {
   "cell_type": "code",
   "execution_count": 25,
   "metadata": {},
   "outputs": [
    {
     "data": {
      "text/plain": [
       "['../input/train/c/c/c/cccec7dcb5e5b6a5.jpg',\n",
       " '../input/train/c/c/c/ccca215a1784491d.jpg',\n",
       " '../input/train/c/c/c/ccc08ae8bcb1719a.jpg',\n",
       " '../input/train/c/c/c/ccc448ebde45d928.jpg',\n",
       " '../input/train/c/c/c/cccca924a4f4abba.jpg']"
      ]
     },
     "execution_count": 25,
     "metadata": {},
     "output_type": "execute_result"
    }
   ],
   "source": [
    "image_paths = glob.glob('../input/train/*/*/*/*')\n",
    "image_paths[:5]"
   ]
  },
  {
   "cell_type": "code",
   "execution_count": 26,
   "metadata": {},
   "outputs": [
    {
     "name": "stdout",
     "output_type": "stream",
     "text": [
      "test/saved_model.pb \n",
      "test/variables/variables.index \n",
      "test/variables/variables.data-00000-of-00001 \n"
     ]
    }
   ],
   "source": [
    "model.save('test')"
   ]
  },
  {
   "cell_type": "code",
   "execution_count": 27,
   "metadata": {},
   "outputs": [],
   "source": [
    "imported = tf.saved_model.load('test')"
   ]
  },
  {
   "cell_type": "code",
   "execution_count": 28,
   "metadata": {},
   "outputs": [
    {
     "data": {
      "text/plain": [
       "<tf.Tensor: shape=(10,), dtype=float32, numpy=\n",
       "array([ 0.23313305, -0.10473177, -0.14935581, -0.04600317, -0.07881361,\n",
       "        0.16711491,  0.70379984, -0.2636972 ,  0.08997073,  0.44980884],\n",
       "      dtype=float32)>"
      ]
     },
     "execution_count": 28,
     "metadata": {},
     "output_type": "execute_result"
    }
   ],
   "source": [
    "image = imported.extract_image(\n",
    "    glob.glob('../input/' + 'train/0/0/0/*')[0], \n",
    "    dim=384, \n",
    "    central_crop=True, \n",
    "    crop_ratio=(0.7, 1.0))\n",
    "\n",
    "image.shape\n",
    "imported.extract_global_descriptor(image)[:10]"
   ]
  },
  {
   "cell_type": "code",
   "execution_count": null,
   "metadata": {},
   "outputs": [],
   "source": []
  },
  {
   "cell_type": "code",
   "execution_count": 23,
   "metadata": {},
   "outputs": [
    {
     "name": "stdout",
     "output_type": "stream",
     "text": [
      "x,y= tf.Tensor(\n",
      "[[ 0  1  2  3  4  5  6  7  8  9 10 11 12 13 14 15 16 17 18 19 20 21 22 23\n",
      "  24 25 26 27]\n",
      " [ 0  1  2  3  4  5  6  7  8  9 10 11 12 13 14 15 16 17 18 19 20 21 22 23\n",
      "  24 25 26 27]\n",
      " [ 0  1  2  3  4  5  6  7  8  9 10 11 12 13 14 15 16 17 18 19 20 21 22 23\n",
      "  24 25 26 27]\n",
      " [ 0  1  2  3  4  5  6  7  8  9 10 11 12 13 14 15 16 17 18 19 20 21 22 23\n",
      "  24 25 26 27]\n",
      " [ 0  1  2  3  4  5  6  7  8  9 10 11 12 13 14 15 16 17 18 19 20 21 22 23\n",
      "  24 25 26 27]\n",
      " [ 0  1  2  3  4  5  6  7  8  9 10 11 12 13 14 15 16 17 18 19 20 21 22 23\n",
      "  24 25 26 27]\n",
      " [ 0  1  2  3  4  5  6  7  8  9 10 11 12 13 14 15 16 17 18 19 20 21 22 23\n",
      "  24 25 26 27]\n",
      " [ 0  1  2  3  4  5  6  7  8  9 10 11 12 13 14 15 16 17 18 19 20 21 22 23\n",
      "  24 25 26 27]\n",
      " [ 0  1  2  3  4  5  6  7  8  9 10 11 12 13 14 15 16 17 18 19 20 21 22 23\n",
      "  24 25 26 27]\n",
      " [ 0  1  2  3  4  5  6  7  8  9 10 11 12 13 14 15 16 17 18 19 20 21 22 23\n",
      "  24 25 26 27]\n",
      " [ 0  1  2  3  4  5  6  7  8  9 10 11 12 13 14 15 16 17 18 19 20 21 22 23\n",
      "  24 25 26 27]\n",
      " [ 0  1  2  3  4  5  6  7  8  9 10 11 12 13 14 15 16 17 18 19 20 21 22 23\n",
      "  24 25 26 27]\n",
      " [ 0  1  2  3  4  5  6  7  8  9 10 11 12 13 14 15 16 17 18 19 20 21 22 23\n",
      "  24 25 26 27]\n",
      " [ 0  1  2  3  4  5  6  7  8  9 10 11 12 13 14 15 16 17 18 19 20 21 22 23\n",
      "  24 25 26 27]\n",
      " [ 0  1  2  3  4  5  6  7  8  9 10 11 12 13 14 15 16 17 18 19 20 21 22 23\n",
      "  24 25 26 27]\n",
      " [ 0  1  2  3  4  5  6  7  8  9 10 11 12 13 14 15 16 17 18 19 20 21 22 23\n",
      "  24 25 26 27]\n",
      " [ 0  1  2  3  4  5  6  7  8  9 10 11 12 13 14 15 16 17 18 19 20 21 22 23\n",
      "  24 25 26 27]\n",
      " [ 0  1  2  3  4  5  6  7  8  9 10 11 12 13 14 15 16 17 18 19 20 21 22 23\n",
      "  24 25 26 27]\n",
      " [ 0  1  2  3  4  5  6  7  8  9 10 11 12 13 14 15 16 17 18 19 20 21 22 23\n",
      "  24 25 26 27]\n",
      " [ 0  1  2  3  4  5  6  7  8  9 10 11 12 13 14 15 16 17 18 19 20 21 22 23\n",
      "  24 25 26 27]\n",
      " [ 0  1  2  3  4  5  6  7  8  9 10 11 12 13 14 15 16 17 18 19 20 21 22 23\n",
      "  24 25 26 27]\n",
      " [ 0  1  2  3  4  5  6  7  8  9 10 11 12 13 14 15 16 17 18 19 20 21 22 23\n",
      "  24 25 26 27]\n",
      " [ 0  1  2  3  4  5  6  7  8  9 10 11 12 13 14 15 16 17 18 19 20 21 22 23\n",
      "  24 25 26 27]\n",
      " [ 0  1  2  3  4  5  6  7  8  9 10 11 12 13 14 15 16 17 18 19 20 21 22 23\n",
      "  24 25 26 27]\n",
      " [ 0  1  2  3  4  5  6  7  8  9 10 11 12 13 14 15 16 17 18 19 20 21 22 23\n",
      "  24 25 26 27]\n",
      " [ 0  1  2  3  4  5  6  7  8  9 10 11 12 13 14 15 16 17 18 19 20 21 22 23\n",
      "  24 25 26 27]\n",
      " [ 0  1  2  3  4  5  6  7  8  9 10 11 12 13 14 15 16 17 18 19 20 21 22 23\n",
      "  24 25 26 27]\n",
      " [ 0  1  2  3  4  5  6  7  8  9 10 11 12 13 14 15 16 17 18 19 20 21 22 23\n",
      "  24 25 26 27]], shape=(28, 28), dtype=int32) tf.Tensor(\n",
      "[[ 0  0  0  0  0  0  0  0  0  0  0  0  0  0  0  0  0  0  0  0  0  0  0  0\n",
      "   0  0  0  0]\n",
      " [ 1  1  1  1  1  1  1  1  1  1  1  1  1  1  1  1  1  1  1  1  1  1  1  1\n",
      "   1  1  1  1]\n",
      " [ 2  2  2  2  2  2  2  2  2  2  2  2  2  2  2  2  2  2  2  2  2  2  2  2\n",
      "   2  2  2  2]\n",
      " [ 3  3  3  3  3  3  3  3  3  3  3  3  3  3  3  3  3  3  3  3  3  3  3  3\n",
      "   3  3  3  3]\n",
      " [ 4  4  4  4  4  4  4  4  4  4  4  4  4  4  4  4  4  4  4  4  4  4  4  4\n",
      "   4  4  4  4]\n",
      " [ 5  5  5  5  5  5  5  5  5  5  5  5  5  5  5  5  5  5  5  5  5  5  5  5\n",
      "   5  5  5  5]\n",
      " [ 6  6  6  6  6  6  6  6  6  6  6  6  6  6  6  6  6  6  6  6  6  6  6  6\n",
      "   6  6  6  6]\n",
      " [ 7  7  7  7  7  7  7  7  7  7  7  7  7  7  7  7  7  7  7  7  7  7  7  7\n",
      "   7  7  7  7]\n",
      " [ 8  8  8  8  8  8  8  8  8  8  8  8  8  8  8  8  8  8  8  8  8  8  8  8\n",
      "   8  8  8  8]\n",
      " [ 9  9  9  9  9  9  9  9  9  9  9  9  9  9  9  9  9  9  9  9  9  9  9  9\n",
      "   9  9  9  9]\n",
      " [10 10 10 10 10 10 10 10 10 10 10 10 10 10 10 10 10 10 10 10 10 10 10 10\n",
      "  10 10 10 10]\n",
      " [11 11 11 11 11 11 11 11 11 11 11 11 11 11 11 11 11 11 11 11 11 11 11 11\n",
      "  11 11 11 11]\n",
      " [12 12 12 12 12 12 12 12 12 12 12 12 12 12 12 12 12 12 12 12 12 12 12 12\n",
      "  12 12 12 12]\n",
      " [13 13 13 13 13 13 13 13 13 13 13 13 13 13 13 13 13 13 13 13 13 13 13 13\n",
      "  13 13 13 13]\n",
      " [14 14 14 14 14 14 14 14 14 14 14 14 14 14 14 14 14 14 14 14 14 14 14 14\n",
      "  14 14 14 14]\n",
      " [15 15 15 15 15 15 15 15 15 15 15 15 15 15 15 15 15 15 15 15 15 15 15 15\n",
      "  15 15 15 15]\n",
      " [16 16 16 16 16 16 16 16 16 16 16 16 16 16 16 16 16 16 16 16 16 16 16 16\n",
      "  16 16 16 16]\n",
      " [17 17 17 17 17 17 17 17 17 17 17 17 17 17 17 17 17 17 17 17 17 17 17 17\n",
      "  17 17 17 17]\n",
      " [18 18 18 18 18 18 18 18 18 18 18 18 18 18 18 18 18 18 18 18 18 18 18 18\n",
      "  18 18 18 18]\n",
      " [19 19 19 19 19 19 19 19 19 19 19 19 19 19 19 19 19 19 19 19 19 19 19 19\n",
      "  19 19 19 19]\n",
      " [20 20 20 20 20 20 20 20 20 20 20 20 20 20 20 20 20 20 20 20 20 20 20 20\n",
      "  20 20 20 20]\n",
      " [21 21 21 21 21 21 21 21 21 21 21 21 21 21 21 21 21 21 21 21 21 21 21 21\n",
      "  21 21 21 21]\n",
      " [22 22 22 22 22 22 22 22 22 22 22 22 22 22 22 22 22 22 22 22 22 22 22 22\n",
      "  22 22 22 22]\n",
      " [23 23 23 23 23 23 23 23 23 23 23 23 23 23 23 23 23 23 23 23 23 23 23 23\n",
      "  23 23 23 23]\n",
      " [24 24 24 24 24 24 24 24 24 24 24 24 24 24 24 24 24 24 24 24 24 24 24 24\n",
      "  24 24 24 24]\n",
      " [25 25 25 25 25 25 25 25 25 25 25 25 25 25 25 25 25 25 25 25 25 25 25 25\n",
      "  25 25 25 25]\n",
      " [26 26 26 26 26 26 26 26 26 26 26 26 26 26 26 26 26 26 26 26 26 26 26 26\n",
      "  26 26 26 26]\n",
      " [27 27 27 27 27 27 27 27 27 27 27 27 27 27 27 27 27 27 27 27 27 27 27 27\n",
      "  27 27 27 27]], shape=(28, 28), dtype=int32)\n",
      "coords= tf.Tensor(\n",
      "[[ 0  0]\n",
      " [ 0  1]\n",
      " [ 0  2]\n",
      " ...\n",
      " [27 25]\n",
      " [27 26]\n",
      " [27 27]], shape=(784, 2), dtype=int32)\n",
      "point_boxes tf.Tensor(\n",
      "[[ 0.  0.  0.  0.]\n",
      " [ 0.  1.  0.  1.]\n",
      " [ 0.  2.  0.  2.]\n",
      " ...\n",
      " [27. 25. 27. 25.]\n",
      " [27. 26. 27. 26.]\n",
      " [27. 27. 27. 27.]], shape=(784, 4), dtype=float32)\n",
      "bias = [-145.0, -145.0, 145.0, 145.0]\n",
      "rf_boxes= tf.Tensor(\n",
      "[[-145. -145.  145.  145.]\n",
      " [-145. -129.  145.  161.]\n",
      " [-145. -113.  145.  177.]\n",
      " ...\n",
      " [ 287.  255.  577.  545.]\n",
      " [ 287.  271.  577.  561.]\n",
      " [ 287.  287.  577.  577.]], shape=(784, 4), dtype=float32)\n"
     ]
    }
   ],
   "source": [
    "rf, stride, padding = [291.0, 16, 145.0]\n",
    "\n",
    "height, width = tf.constant([28]), tf.constant([28])\n",
    "\n",
    "x, y = tf.meshgrid(tf.range(height), tf.range(width))\n",
    "print('x,y=', x, y)\n",
    "coordinates = tf.reshape(tf.stack([y, x], axis=2), [-1, 2])\n",
    "print('coords=', coordinates)\n",
    "point_boxes = tf.cast(\n",
    "    tf.concat([coordinates, coordinates], 1), 'float32')\n",
    "print('point_boxes', point_boxes)\n",
    "bias = [-padding, -padding, -padding + rf - 1, -padding + rf -1]\n",
    "print('bias =', bias)\n",
    "\n",
    "rf_boxes = stride * point_boxes + bias\n",
    "print('rf_boxes=', rf_boxes)"
   ]
  },
  {
   "cell_type": "code",
   "execution_count": null,
   "metadata": {
    "scrolled": true
   },
   "outputs": [],
   "source": [
    "imported.extract_global_descriptor(image)"
   ]
  },
  {
   "cell_type": "code",
   "execution_count": null,
   "metadata": {},
   "outputs": [],
   "source": [
    "model([load_image(train_df.path[0], dim=384, central_crop=True)[tf.newaxis], 5], training=False)"
   ]
  },
  {
   "cell_type": "code",
   "execution_count": null,
   "metadata": {},
   "outputs": [],
   "source": [
    "model([load_image(train_df.path[0], dim=384, central_crop=True)[tf.newaxis], 5], training=False)"
   ]
  },
  {
   "cell_type": "code",
   "execution_count": 22,
   "metadata": {},
   "outputs": [
    {
     "data": {
      "text/plain": [
       "14.0"
      ]
     },
     "execution_count": 22,
     "metadata": {},
     "output_type": "execute_result"
    }
   ],
   "source": [
    "448/32"
   ]
  },
  {
   "cell_type": "code",
   "execution_count": null,
   "metadata": {},
   "outputs": [],
   "source": []
  }
 ],
 "metadata": {
  "kernelspec": {
   "display_name": "Python 3",
   "language": "python",
   "name": "python3"
  }
 },
 "nbformat": 4,
 "nbformat_minor": 4
}
