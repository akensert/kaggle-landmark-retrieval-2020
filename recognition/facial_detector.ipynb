{
 "cells": [
  {
   "cell_type": "code",
   "execution_count": null,
   "metadata": {},
   "outputs": [],
   "source": [
    "import cv2\n",
    "import tensorflow as tf\n",
    "import numpy as np\n",
    "import pandas as pd\n",
    "import matplotlib.pyplot as plt\n",
    "tf.config.set_visible_devices([], 'GPU')"
   ]
  },
  {
   "cell_type": "code",
   "execution_count": null,
   "metadata": {},
   "outputs": [],
   "source": [
    "data = pd.read_csv('../input/sample_submission.csv')"
   ]
  },
  {
   "cell_type": "code",
   "execution_count": null,
   "metadata": {},
   "outputs": [],
   "source": [
    "classifier = cv2.CascadeClassifier('../output/haarcascade_frontalface_default.xml')"
   ]
  },
  {
   "cell_type": "code",
   "execution_count": null,
   "metadata": {},
   "outputs": [],
   "source": [
    "imported = tf.saved_model.load('../output/served_models/model')"
   ]
  },
  {
   "cell_type": "code",
   "execution_count": null,
   "metadata": {},
   "outputs": [],
   "source": [
    "image = imported.extract_image(\n",
    "        path='../input/test',\n",
    "        image_id=data.id[17],\n",
    "        dim=512, \n",
    "        central_crop=True, \n",
    "        crop_ratio=(0.7, 1.0))\n",
    "\n",
    "plt.imshow(image[0])"
   ]
  },
  {
   "cell_type": "code",
   "execution_count": null,
   "metadata": {},
   "outputs": [],
   "source": [
    "face_found = []\n",
    "for i in range(200, 300):\n",
    "    image = imported.extract_image(\n",
    "        path='../input/test',\n",
    "        image_id=data.id[i],\n",
    "        dim=512, \n",
    "        central_crop=True, \n",
    "        crop_ratio=(0.7, 1.0))\n",
    "    bboxes = classifier.detectMultiScale(\n",
    "        (image[0]*255).numpy().astype(np.uint8),\n",
    "        1.1, 12)\n",
    "    if len(bboxes) > 0:\n",
    "        face_found.append(i)\n",
    "        \n",
    "print(face_found)"
   ]
  },
  {
   "cell_type": "code",
   "execution_count": null,
   "metadata": {},
   "outputs": [],
   "source": [
    "\n",
    "fig, axes = plt.subplots(5, 5, figsize=(20,20))\n",
    "for i, ax in zip(face_found, axes.reshape(-1)):\n",
    "    image = imported.extract_image(\n",
    "        path='../input/test',\n",
    "        image_id=data.id[i],\n",
    "        dim=512, \n",
    "        central_crop=True, \n",
    "        crop_ratio=(0.7, 1.0))\n",
    "    ax.imshow(image[0])\n",
    "    ax.axis('off')"
   ]
  },
  {
   "cell_type": "code",
   "execution_count": null,
   "metadata": {},
   "outputs": [],
   "source": []
  },
  {
   "cell_type": "code",
   "execution_count": null,
   "metadata": {},
   "outputs": [],
   "source": [
    "# perform face detection\n",
    "bboxes = classifier.detectMultiScale(\n",
    "    (image[0]*255).numpy().astype(np.uint8),\n",
    "    1.1, 6)\n",
    "# print bounding box for each detected face\n",
    "for box in bboxes:\n",
    "    print(box)"
   ]
  },
  {
   "cell_type": "code",
   "execution_count": null,
   "metadata": {},
   "outputs": [],
   "source": [
    "def plot_box(box, c):\n",
    "    plt.scatter(\n",
    "        [box[0], box[0]+box[2]], \n",
    "        [box[1], box[1]+box[3]], c=c)"
   ]
  },
  {
   "cell_type": "code",
   "execution_count": null,
   "metadata": {},
   "outputs": [],
   "source": [
    "plt.imshow(image[0]);\n",
    "\n",
    "for box in bboxes:\n",
    "    plot_box(box, c='red')"
   ]
  },
  {
   "cell_type": "code",
   "execution_count": null,
   "metadata": {},
   "outputs": [],
   "source": []
  }
 ],
 "metadata": {
  "kernelspec": {
   "display_name": "Python 3",
   "language": "python",
   "name": "python3"
  },
  "language_info": {
   "codemirror_mode": {
    "name": "ipython",
    "version": 3
   },
   "file_extension": ".py",
   "mimetype": "text/x-python",
   "name": "python",
   "nbconvert_exporter": "python",
   "pygments_lexer": "ipython3",
   "version": "3.8.2"
  }
 },
 "nbformat": 4,
 "nbformat_minor": 4
}
